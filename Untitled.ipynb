{
 "cells": [
  {
   "cell_type": "code",
   "execution_count": 1,
   "id": "b84ff21d",
   "metadata": {},
   "outputs": [],
   "source": [
    "import pandas as pd"
   ]
  },
  {
   "cell_type": "code",
   "execution_count": 31,
   "id": "b77cd348",
   "metadata": {},
   "outputs": [],
   "source": [
    "ames = pd.read_csv('ameshouse.txt', sep=\" \") "
   ]
  },
  {
   "cell_type": "code",
   "execution_count": 19,
   "id": "daa2e3eb",
   "metadata": {},
   "outputs": [],
   "source": [
    "from collections import Counter\n",
    "\n",
    "with open(\"ameshouse_README.txt\") as f:\n",
    "    file_split = [line.split() for line in f]\n",
    "\n",
    "file_split_flatten = [val for sublist in file_split for val in sublist]\n",
    "\n",
    "count_dict = dict(zip(Counter(file_split_flatten).keys(), Counter(file_split_flatten).values()))"
   ]
  },
  {
   "cell_type": "code",
   "execution_count": 32,
   "id": "69d581cb",
   "metadata": {},
   "outputs": [],
   "source": [
    "r = pd.read_csv('ameshouse_README.txt', sep=\"\\n\") "
   ]
  },
  {
   "cell_type": "code",
   "execution_count": 33,
   "id": "3fb086d7",
   "metadata": {},
   "outputs": [
    {
     "data": {
      "text/html": [
       "<div>\n",
       "<style scoped>\n",
       "    .dataframe tbody tr th:only-of-type {\n",
       "        vertical-align: middle;\n",
       "    }\n",
       "\n",
       "    .dataframe tbody tr th {\n",
       "        vertical-align: top;\n",
       "    }\n",
       "\n",
       "    .dataframe thead th {\n",
       "        text-align: right;\n",
       "    }\n",
       "</style>\n",
       "<table border=\"1\" class=\"dataframe\">\n",
       "  <thead>\n",
       "    <tr style=\"text-align: right;\">\n",
       "      <th></th>\n",
       "      <th>MSSubClass: Identifies the type of dwelling involved in the sale.\\t</th>\n",
       "    </tr>\n",
       "  </thead>\n",
       "  <tbody>\n",
       "    <tr>\n",
       "      <th>0</th>\n",
       "      <td>20\\t1-STORY 1946 &amp; NEWER ALL STYLES</td>\n",
       "    </tr>\n",
       "    <tr>\n",
       "      <th>1</th>\n",
       "      <td>30\\t1-STORY 1945 &amp; OLDER</td>\n",
       "    </tr>\n",
       "    <tr>\n",
       "      <th>2</th>\n",
       "      <td>40\\t1-STORY W/FINISHED ATTIC ALL AGES</td>\n",
       "    </tr>\n",
       "    <tr>\n",
       "      <th>3</th>\n",
       "      <td>45\\t1-1/2 STORY - UNFINISHED ALL AGES</td>\n",
       "    </tr>\n",
       "    <tr>\n",
       "      <th>4</th>\n",
       "      <td>50\\t1-1/2 STORY FINISHED ALL AGES</td>\n",
       "    </tr>\n",
       "    <tr>\n",
       "      <th>...</th>\n",
       "      <td>...</td>\n",
       "    </tr>\n",
       "    <tr>\n",
       "      <th>393</th>\n",
       "      <td>Abnorml\\tAbnormal Sale -  trade, forecl...</td>\n",
       "    </tr>\n",
       "    <tr>\n",
       "      <th>394</th>\n",
       "      <td>AdjLand\\tAdjoining Land Purchase</td>\n",
       "    </tr>\n",
       "    <tr>\n",
       "      <th>395</th>\n",
       "      <td>Alloca\\tAllocation - two linked propert...</td>\n",
       "    </tr>\n",
       "    <tr>\n",
       "      <th>396</th>\n",
       "      <td>Family\\tSale between family members</td>\n",
       "    </tr>\n",
       "    <tr>\n",
       "      <th>397</th>\n",
       "      <td>Partial\\tHome was not completed when la...</td>\n",
       "    </tr>\n",
       "  </tbody>\n",
       "</table>\n",
       "<p>398 rows × 1 columns</p>\n",
       "</div>"
      ],
      "text/plain": [
       "    MSSubClass: Identifies the type of dwelling involved in the sale.\\t\n",
       "0                  20\\t1-STORY 1946 & NEWER ALL STYLES                 \n",
       "1                             30\\t1-STORY 1945 & OLDER                 \n",
       "2                40\\t1-STORY W/FINISHED ATTIC ALL AGES                 \n",
       "3                45\\t1-1/2 STORY - UNFINISHED ALL AGES                 \n",
       "4                    50\\t1-1/2 STORY FINISHED ALL AGES                 \n",
       "..                                                 ...                 \n",
       "393         Abnorml\\tAbnormal Sale -  trade, forecl...                 \n",
       "394                   AdjLand\\tAdjoining Land Purchase                 \n",
       "395         Alloca\\tAllocation - two linked propert...                 \n",
       "396                Family\\tSale between family members                 \n",
       "397         Partial\\tHome was not completed when la...                 \n",
       "\n",
       "[398 rows x 1 columns]"
      ]
     },
     "execution_count": 33,
     "metadata": {},
     "output_type": "execute_result"
    }
   ],
   "source": []
  },
  {
   "cell_type": "code",
   "execution_count": null,
   "id": "68cb9583",
   "metadata": {},
   "outputs": [],
   "source": []
  }
 ],
 "metadata": {
  "kernelspec": {
   "display_name": "Python 3",
   "language": "python",
   "name": "python3"
  },
  "language_info": {
   "codemirror_mode": {
    "name": "ipython",
    "version": 3
   },
   "file_extension": ".py",
   "mimetype": "text/x-python",
   "name": "python",
   "nbconvert_exporter": "python",
   "pygments_lexer": "ipython3",
   "version": "3.8.8"
  }
 },
 "nbformat": 4,
 "nbformat_minor": 5
}
